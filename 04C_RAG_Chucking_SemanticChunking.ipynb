{
  "cells": [
    {
      "cell_type": "markdown",
      "metadata": {
        "id": "tOSF8jxTVAdh"
      },
      "source": [
        "# AIChampionsHub : Academy\n",
        "\n",
        "### Module 2: Adapting AI for Enterprise Use : Retrival Augmented Generation\n",
        "\n",
        "### Use Case 04C : Semantic Chucking of Data before storing in a Vector Database\n",
        "This is part of Course by **AIChampionsHub** - AI Fundamentals and AI Engineering Courses leverage this Notebook.\n",
        "\n",
        "---\n",
        "<a href=\"https://github.com/aichampionslearn/01_LLM_Basics\"><img src=\"https://img.shields.io/badge/GitHub%20Repository-black?logo=github\"></a>\n",
        "[![Open In Colab](https://colab.research.google.com/assets/colab-badge.svg)](https://colab.research.google.com/github.com/aichampionslearn/01_LLM_Basics/blob/main/AICH_L2_AIAgents_M1_D3_BasicLLMAppv01.ipynb)"
      ]
    },
    {
      "cell_type": "code",
      "execution_count": 1,
      "metadata": {
        "colab": {
          "base_uri": "https://localhost:8080/"
        },
        "id": "WdF5Ls0wW2IV",
        "outputId": "203d6554-90f4-46b7-82f6-e8baa7efa8af"
      },
      "outputs": [
        {
          "output_type": "stream",
          "name": "stdout",
          "text": [
            "\u001b[?25l   \u001b[90m━━━━━━━━━━━━━━━━━━━━━━━━━━━━━━━━━━━━━━━━\u001b[0m \u001b[32m0.0/62.4 kB\u001b[0m \u001b[31m?\u001b[0m eta \u001b[36m-:--:--\u001b[0m\r\u001b[2K   \u001b[90m━━━━━━━━━━━━━━━━━━━━━━━━━━━━━━━━━━━━━━━━\u001b[0m \u001b[32m62.4/62.4 kB\u001b[0m \u001b[31m2.2 MB/s\u001b[0m eta \u001b[36m0:00:00\u001b[0m\n",
            "\u001b[2K   \u001b[90m━━━━━━━━━━━━━━━━━━━━━━━━━━━━━━━━━━━━━━━━\u001b[0m \u001b[32m2.5/2.5 MB\u001b[0m \u001b[31m27.3 MB/s\u001b[0m eta \u001b[36m0:00:00\u001b[0m\n",
            "\u001b[2K   \u001b[90m━━━━━━━━━━━━━━━━━━━━━━━━━━━━━━━━━━━━━━━━\u001b[0m \u001b[32m433.9/433.9 kB\u001b[0m \u001b[31m14.3 MB/s\u001b[0m eta \u001b[36m0:00:00\u001b[0m\n",
            "\u001b[2K   \u001b[90m━━━━━━━━━━━━━━━━━━━━━━━━━━━━━━━━━━━━━━━━\u001b[0m \u001b[32m44.4/44.4 kB\u001b[0m \u001b[31m2.6 MB/s\u001b[0m eta \u001b[36m0:00:00\u001b[0m\n",
            "\u001b[2K   \u001b[90m━━━━━━━━━━━━━━━━━━━━━━━━━━━━━━━━━━━━━━━━\u001b[0m \u001b[32m1.2/1.2 MB\u001b[0m \u001b[31m33.3 MB/s\u001b[0m eta \u001b[36m0:00:00\u001b[0m\n",
            "\u001b[2K   \u001b[90m━━━━━━━━━━━━━━━━━━━━━━━━━━━━━━━━━━━━━━━━\u001b[0m \u001b[32m50.9/50.9 kB\u001b[0m \u001b[31m1.4 MB/s\u001b[0m eta \u001b[36m0:00:00\u001b[0m\n",
            "\u001b[?25h"
          ]
        }
      ],
      "source": [
        "%pip install --quiet --upgrade langchain langchain-openai langchain-text-splitters langchain-community"
      ]
    },
    {
      "cell_type": "markdown",
      "metadata": {
        "id": "tzmBaFTcZo8D"
      },
      "source": [
        "# DataSet\n",
        "- First we will use simple Datasets. One of Paulgraham's essay\n",
        "- https://paulgraham.com/mit.html"
      ]
    },
    {
      "cell_type": "markdown",
      "metadata": {
        "id": "dpfeSI3wVYq0"
      },
      "source": [
        "## Semantic Chunking\n",
        "- Splitting Text based on Context and Meaning.\n",
        "  All information relevant to a \"topic\" is in one Chunk.\n",
        "  Here we will use NLP for meaning and then group text / content into Coherent Unit Based on Meaning.\n",
        "- Key Steps:\n",
        "  - A) Load the Document or Content\n",
        "  - B) Tokenize - e.g. use Sentence Tokenizer to split text (or Paragraph or document) into Sentences.\n",
        "  - C) Embeddings: Allow us to represent text in Numeric and optimal manner\n"
      ]
    },
    {
      "cell_type": "code",
      "execution_count": 4,
      "metadata": {
        "id": "v3xYMj6QknQe"
      },
      "outputs": [],
      "source": [
        "# Step 2 : Recursive Charecter Splitter\n",
        "with open('./billionaireBuild_short.txt') as file:\n",
        "    pg_essay = file.read()"
      ]
    },
    {
      "cell_type": "code",
      "execution_count": 5,
      "metadata": {
        "id": "dXvY21u1gQiu"
      },
      "outputs": [],
      "source": [
        "import re\n",
        "def paragraph_to_sentences_Splitter(paragraph):\n",
        "\n",
        "    # Here we will split the Paragraph into sentenences based on Period.\n",
        "    sentences = re.split(r'(?<=[.])\\s+', paragraph)\n",
        "    print (f\"Number of Sentences : {len(sentences)} \")\n",
        "\n",
        "    #Conver this to a dictionary for easy use\n",
        "    #sentences = [{'index':i, 'sentence':s} for i, s in enumerate(sentences)]\n",
        "    return sentences"
      ]
    },
    {
      "cell_type": "code",
      "execution_count": 6,
      "metadata": {
        "colab": {
          "base_uri": "https://localhost:8080/",
          "height": 53
        },
        "id": "lr6n5Ffwm8qz",
        "outputId": "34811d06-5191-4dca-afdd-2f6913043901"
      },
      "outputs": [
        {
          "output_type": "stream",
          "name": "stdout",
          "text": [
            "Number of Sentences : 25 \n"
          ]
        },
        {
          "output_type": "execute_result",
          "data": {
            "text/plain": [
              "\"There has been so much nonsense written about this topic that I've been meaning for years to write something telling founders the truth.\""
            ],
            "application/vnd.google.colaboratory.intrinsic+json": {
              "type": "string"
            }
          },
          "metadata": {},
          "execution_count": 6
        }
      ],
      "source": [
        "sentences = paragraph_to_sentences_Splitter(pg_essay)\n",
        "sentences[2] #Example"
      ]
    },
    {
      "cell_type": "markdown",
      "metadata": {
        "id": "-cmaimw-n5KH"
      },
      "source": [
        "## Let us Embed the Documents"
      ]
    },
    {
      "cell_type": "code",
      "execution_count": 7,
      "metadata": {
        "id": "EyW6JUsMn4nM",
        "colab": {
          "base_uri": "https://localhost:8080/"
        },
        "outputId": "7da91187-db3b-4ba0-e729-cd3727e8afd9"
      },
      "outputs": [
        {
          "output_type": "stream",
          "name": "stderr",
          "text": [
            "<ipython-input-7-22a0455920c8>:11: LangChainDeprecationWarning: The class `OpenAIEmbeddings` was deprecated in LangChain 0.0.9 and will be removed in 1.0. An updated version of the class exists in the :class:`~langchain-openai package and should be used instead. To use it run `pip install -U :class:`~langchain-openai` and import as `from :class:`~langchain_openai import OpenAIEmbeddings``.\n",
            "  embed_model = OpenAIEmbeddings(api_key = OPENAI_API_KEY)\n"
          ]
        }
      ],
      "source": [
        "# We will embed each Sentence and add to the same dictonary for use\n",
        "from google.colab import userdata\n",
        "from dotenv import load_dotenv\n",
        "import os\n",
        "\n",
        "# load_dotenv()\n",
        "# OPENAI_API_KEY=os.getenv(\"OPENAI_API_KEY\")\n",
        "OPENAI_API_KEY = userdata.get('OPENAI_API_KEY')\n",
        "\n",
        "from langchain.embeddings import OpenAIEmbeddings\n",
        "embed_model = OpenAIEmbeddings(api_key = OPENAI_API_KEY)\n",
        "\n",
        "# embeddings= embed_model.embed_documents([s['sentence'] for s in sentences])\n",
        "\n",
        "# Also add these embeddings to the dictionary of document\n",
        "# len(embeddings)\n",
        "# for i, sentence in enumerate(sentences):\n",
        "#    sentence['sentence_embeddings'] = embeddings[i]"
      ]
    },
    {
      "cell_type": "markdown",
      "metadata": {
        "id": "uQG74h9iqfbP"
      },
      "source": [
        "## We can use Cosine Similarty find if two sentences to close to each other or so."
      ]
    },
    {
      "cell_type": "code",
      "execution_count": 9,
      "metadata": {
        "id": "qrpjthx8rACF"
      },
      "outputs": [],
      "source": [
        "from sklearn.metrics.pairwise import cosine_similarity, cosine_distances\n",
        "import numpy as np\n"
      ]
    },
    {
      "cell_type": "markdown",
      "source": [
        "# METHOD 1"
      ],
      "metadata": {
        "id": "rLyIeJA8D_Mw"
      }
    },
    {
      "cell_type": "code",
      "source": [
        "def create_semantic_chunks(sentences):\n",
        "    semantic_chunks = [] # Our Semantic Chunk will be a list of list\n",
        "    # sen_embeddings = [np.array(embed_model.embed_query(sentence)).reshape(1,-1) for sentence in sentences]\n",
        "    SIMILARITY_THRESHOLD = 0.79\n",
        "    sen_embeddings = []\n",
        "    for i in range(len(sentences)):\n",
        "        sen_embeddings.append(np.array(embed_model.embed_query(sentences[i])).reshape(1,-1))\n",
        "\n",
        "    for i in range(len(sentences)):\n",
        "         if i == 0:\n",
        "            semantic_chunks.append([sentences[i]])\n",
        "            # sentence['similarity_score'] = 0.5 # Initial score\n",
        "         else:\n",
        "            similarity_score = cosine_similarity(sen_embeddings[i-1], sen_embeddings[i])\n",
        "            if similarity_score[0][0] > SIMILARITY_THRESHOLD: #You can choose cut-off as required for your use case\n",
        "               semantic_chunks[-1].append(sentences[i]) # Append to previous\n",
        "               print(\"Combined \", i, similarity_score[0][0])\n",
        "            else:\n",
        "               semantic_chunks.append([sentences[i]])\n",
        "               # print(\"New Chunk\")\n",
        "\n",
        "    return semantic_chunks;"
      ],
      "metadata": {
        "id": "-J1UZwH6EFqR"
      },
      "execution_count": 38,
      "outputs": []
    },
    {
      "cell_type": "code",
      "source": [
        "chunks = create_semantic_chunks(sentences)"
      ],
      "metadata": {
        "colab": {
          "base_uri": "https://localhost:8080/"
        },
        "id": "rW32GtKYFBrZ",
        "outputId": "5cc444a9-c941-4d65-fbf1-7c0d186ad7c7"
      },
      "execution_count": 39,
      "outputs": [
        {
          "output_type": "stream",
          "name": "stdout",
          "text": [
            "Combined  3 0.7939147820689862\n",
            "Combined  8 0.8176719742175904\n",
            "Combined  9 0.8096456147306642\n",
            "Combined  11 0.8387353720430503\n",
            "Combined  12 0.8752690052929877\n",
            "Combined  13 0.8732818084669409\n",
            "Combined  14 0.8031764237720349\n",
            "Combined  15 0.8000873591036721\n",
            "Combined  17 0.8627256299914521\n",
            "Combined  19 0.8061955291621322\n",
            "Combined  20 0.8051344820260606\n",
            "Combined  22 0.8280380701277062\n",
            "Combined  23 0.7991121736415259\n"
          ]
        }
      ]
    },
    {
      "cell_type": "code",
      "source": [
        "# Print Sentences for Comparison\n",
        "for i, sen in enumerate(sentences[:5]):\n",
        "    #buffer = 200\n",
        "\n",
        "    print (f\"Sent #{i}\")\n",
        "    print (sen[:buffer])\n",
        "    print (\"...\")\n",
        ""
      ],
      "metadata": {
        "colab": {
          "base_uri": "https://localhost:8080/"
        },
        "id": "gSCaLlbpLQmp",
        "outputId": "b02ab6e5-bd24-464e-e052-cb9e209c7043"
      },
      "execution_count": 40,
      "outputs": [
        {
          "output_type": "stream",
          "name": "stdout",
          "text": [
            "Sent #0\n",
            "December 2020\n",
            "As I was deciding what to write about next, I was surprised to find that two separate essays I'd been planning to write were actually the same.\n",
            "...\n",
            "Sent #1\n",
            "The first is about how to ace your Y Combinator interview.\n",
            "...\n",
            "Sent #2\n",
            "There has been so much nonsense written about this topic that I've been meaning for years to write something telling founders the truth.\n",
            "...\n",
            "Sent #3\n",
            "The second is about something politicians sometimes say — that the only way to become a billionaire is by exploiting people — and why this is mistaken.\n",
            "...\n",
            "Sent #4\n",
            "Keep reading, and you'll learn both simultaneously.\n",
            "...\n"
          ]
        }
      ]
    },
    {
      "cell_type": "code",
      "source": [
        "for i, chunk in enumerate(chunks[:5]):\n",
        "    #buffer = 200\n",
        "\n",
        "    print (f\"Chunk #{i}\")\n",
        "    print (chunk[:buffer])\n",
        "    print (\"...\")\n",
        ""
      ],
      "metadata": {
        "id": "9_lmOWW3GufZ",
        "colab": {
          "base_uri": "https://localhost:8080/"
        },
        "outputId": "70b7bbd7-009f-4aba-b80e-98540d09f090"
      },
      "execution_count": 41,
      "outputs": [
        {
          "output_type": "stream",
          "name": "stdout",
          "text": [
            "Chunk #0\n",
            "[\"December 2020\\nAs I was deciding what to write about next, I was surprised to find that two separate essays I'd been planning to write were actually the same.\"]\n",
            "...\n",
            "Chunk #1\n",
            "['The first is about how to ace your Y Combinator interview.']\n",
            "...\n",
            "Chunk #2\n",
            "[\"There has been so much nonsense written about this topic that I've been meaning for years to write something telling founders the truth.\", 'The second is about something politicians sometimes say — that the only way to become a billionaire is by exploiting people — and why this is mistaken.']\n",
            "...\n",
            "Chunk #3\n",
            "[\"Keep reading, and you'll learn both simultaneously.\"]\n",
            "...\n",
            "Chunk #4\n",
            "['I know the politicians are mistaken because it was my job to predict which people will become billionaires.']\n",
            "...\n"
          ]
        }
      ]
    },
    {
      "cell_type": "markdown",
      "source": [
        "# METHOD 2"
      ],
      "metadata": {
        "id": "ZorywsWoD8-h"
      }
    },
    {
      "cell_type": "code",
      "execution_count": null,
      "metadata": {
        "id": "D9qOR0bW-92c"
      },
      "outputs": [],
      "source": [
        "from sklearn.metrics.pairwise import cosine_similarity\n",
        "\n",
        "def calculate_cosine_distances(sentences):\n",
        "    distances = []\n",
        "    for i in range(len(sentences) - 1):\n",
        "        embedding_current = sentences[i]['sentence_embeddings']\n",
        "        embedding_next = sentences[i + 1]['sentence_embeddings']\n",
        "\n",
        "        # Calculate cosine similarity\n",
        "        similarity = cosine_similarity([embedding_current], [embedding_next])[0][0]\n",
        "\n",
        "        # Convert to cosine distance\n",
        "        distance = 1 - similarity\n",
        "\n",
        "        # Append cosine distance to the list\n",
        "        distances.append(distance)\n",
        "\n",
        "        # Store distance in the dictionary\n",
        "        sentences[i]['distance_to_next'] = distance\n",
        "\n",
        "    # Optionally handle the last sentence\n",
        "    # sentences[-1]['distance_to_next'] = None  # or a default value\n",
        "\n",
        "    return distances, sentences"
      ]
    },
    {
      "cell_type": "code",
      "execution_count": null,
      "metadata": {
        "id": "BoPRy5SI-92c"
      },
      "outputs": [],
      "source": [
        "distances, sentences = calculate_cosine_distances(sentences)"
      ]
    },
    {
      "cell_type": "code",
      "execution_count": null,
      "metadata": {
        "colab": {
          "base_uri": "https://localhost:8080/"
        },
        "id": "ncPJwgZW-92c",
        "outputId": "703455ad-ea87-42fe-8f1a-a7b5dd99f984"
      },
      "outputs": [
        {
          "output_type": "execute_result",
          "data": {
            "text/plain": [
              "[np.float64(0.2489595778888034),\n",
              " np.float64(0.220791782971977),\n",
              " np.float64(0.2060962189590696),\n",
              " np.float64(0.21969075584461406),\n",
              " np.float64(0.2939967129269785)]"
            ]
          },
          "metadata": {},
          "execution_count": 20
        }
      ],
      "source": [
        "distances[:5]"
      ]
    },
    {
      "cell_type": "code",
      "execution_count": null,
      "metadata": {
        "colab": {
          "base_uri": "https://localhost:8080/",
          "height": 430
        },
        "id": "FKJqF74j-92c",
        "outputId": "85a1e617-b962-4434-e583-ff1c74538e02"
      },
      "outputs": [
        {
          "output_type": "display_data",
          "data": {
            "text/plain": [
              "<Figure size 640x480 with 1 Axes>"
            ],
            "image/png": "[encoded data removed]"
          },
          "metadata": {}
        }
      ],
      "source": [
        "import matplotlib.pyplot as plt\n",
        "\n",
        "plt.plot(distances); #Distances shown in Y..X axis is sentence numbers"
      ]
    },
    {
      "cell_type": "code",
      "execution_count": null,
      "metadata": {
        "id": "vGp35UaB-92c"
      },
      "outputs": [],
      "source": [
        "# Initialize the start index\n",
        "start_index = 0\n",
        "breakpoint_percentile_threshold = 95\n",
        "breakpoint_distance_threshold = np.percentile(distances, breakpoint_percentile_threshold) # If you want more chunks, lower the percentile cutoff\n",
        "\n",
        "indices_above_thresh = [i for i, x in enumerate(distances) if x > breakpoint_distance_threshold] # The indices of those breakpoints on your list\n",
        "\n",
        "# Create a list to hold the grouped sentences\n",
        "chunks = []\n",
        "\n",
        "# Iterate through the breakpoints to slice the sentences\n",
        "for index in indices_above_thresh:\n",
        "    # The end index is the current breakpoint\n",
        "    end_index = index\n",
        "\n",
        "    # Slice the sentence_dicts from the current start index to the end index\n",
        "    group = sentences[start_index:end_index + 1]\n",
        "    combined_text = ' '.join([d['sentence'] for d in group])\n",
        "    chunks.append(combined_text)\n",
        "\n",
        "    # Update the start index for the next group\n",
        "    start_index = index + 1\n",
        "\n",
        "# The last group, if any sentences remain\n",
        "if start_index < len(sentences):\n",
        "    combined_text = ' '.join([d['sentence'] for d in sentences[start_index:]])\n",
        "    chunks.append(combined_text)\n",
        "\n",
        "# grouped_sentences now contains the chunked sentences\n"
      ]
    },
    {
      "cell_type": "code",
      "execution_count": null,
      "metadata": {
        "colab": {
          "base_uri": "https://localhost:8080/"
        },
        "id": "7MjnTAWr-92c",
        "outputId": "16ae8c1a-31ff-4bad-c32c-7c63fca7e695"
      },
      "outputs": [
        {
          "output_type": "stream",
          "name": "stdout",
          "text": [
            "Chunk #0\n",
            "December 2020\n",
            "As I was deciding what to write about next, I was surprised to find that two separate essays I'd been planning to write were actually the same. The first is about how to ace your Y Combi\n",
            "...\n",
            "second is about something politicians sometimes say — that the only way to become a billionaire is by exploiting people — and why this is mistaken. Keep reading, and you'll learn both simultaneously.\n",
            "\n",
            "\n",
            "Chunk #1\n",
            "I know the politicians are mistaken because it was my job to predict which people will become billionaires. I think I can truthfully say that I know as much about how to do this as anyone. If the key\n",
            "...\n",
            "trying to figure out: is there a path to a huge market? [1]\n",
            "\n",
            "Sometimes it's obvious there will be a huge market. If Boom manages to ship an airliner at all, international airlines will have to buy it.\n",
            "\n",
            "\n"
          ]
        }
      ],
      "source": [
        "for i, chunk in enumerate(chunks[:2]):\n",
        "    buffer = 200\n",
        "\n",
        "    print (f\"Chunk #{i}\")\n",
        "    print (chunk[:buffer].strip())\n",
        "    print (\"...\")\n",
        "    print (chunk[-buffer:].strip())\n",
        "    print (\"\\n\")\n"
      ]
    },
    {
      "cell_type": "code",
      "execution_count": null,
      "metadata": {
        "id": "Qi613dFR-92d"
      },
      "outputs": [],
      "source": []
    }
  ],
  "metadata": {
    "accelerator": "GPU",
    "colab": {
      "gpuType": "T4",
      "provenance": []
    },
    "kernelspec": {
      "display_name": "Python 3 (ipykernel)",
      "language": "python",
      "name": "python3"
    },
    "language_info": {
      "codemirror_mode": {
        "name": "ipython",
        "version": 3
      },
      "file_extension": ".py",
      "mimetype": "text/x-python",
      "name": "python",
      "nbconvert_exporter": "python",
      "pygments_lexer": "ipython3",
      "version": "3.12.6"
    }
  },
  "nbformat": 4,
  "nbformat_minor": 0
}